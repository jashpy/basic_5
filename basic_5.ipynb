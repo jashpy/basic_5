{
 "cells": [
  {
   "cell_type": "markdown",
   "id": "316b571f-9093-48f4-a6b5-b99abe44275b",
   "metadata": {},
   "source": [
    "problem-1"
   ]
  },
  {
   "cell_type": "code",
   "execution_count": 1,
   "id": "f6be52e9-edba-40de-888c-6147a2190368",
   "metadata": {},
   "outputs": [
    {
     "name": "stdout",
     "output_type": "stream",
     "text": [
      "lamborghini\n",
      "350\n",
      "7.69\n"
     ]
    }
   ],
   "source": [
    "'''Q1.Create a vehicle class with an init method having instance variables as name_of_vehicle, max_speed\n",
    "and average_of_vehicle.'''\n",
    "\n",
    "class vehicle:\n",
    "    def __init__(self,name_of_vehicle,max_speed,average_of_vehicle):\n",
    "        self.name_of_vehicle=name_of_vehicle\n",
    "        self.max_speed=max_speed\n",
    "        self.average_of_vehicle=average_of_vehicle\n",
    "        \n",
    "vehicle_obj=vehicle(\"lamborghini\",350,7.69)\n",
    "print(vehicle_obj.name_of_vehicle)\n",
    "print(vehicle_obj.max_speed)\n",
    "print(vehicle_obj.average_of_vehicle)"
   ]
  },
  {
   "cell_type": "markdown",
   "id": "85b432f9-8b3e-4f36-b7ff-59fa54d670bc",
   "metadata": {},
   "source": [
    "problem-2"
   ]
  },
  {
   "cell_type": "code",
   "execution_count": 2,
   "id": "7057033b-5c88-4c71-b10d-bce1494fda17",
   "metadata": {
    "tags": []
   },
   "outputs": [
    {
     "name": "stdout",
     "output_type": "stream",
     "text": [
      "the name of the vehicle is lamborghini and its seating capacity is 2\n"
     ]
    }
   ],
   "source": [
    "'''Q2. Create a child class car from the vehicle class created in Que 1, which will inherit the vehicle class.\n",
    "Create a method named seating_capacity which takes capacity as an argument and returns the name of\n",
    "the vehicle and its seating capacity.'''\n",
    "\n",
    "class vehicle:\n",
    "    def __init__(self,name_of_vehicle,max_speed,average_of_vehicle):\n",
    "        self.name_of_vehicle=name_of_vehicle\n",
    "        self.max_speed=max_speed\n",
    "        self.average_of_vehicle=average_of_vehicle\n",
    "        \n",
    "    \n",
    "    def seating_capacity(self,capacity):\n",
    "        return f\"the name of the vehicle is {self.name_of_vehicle} and its seating capacity is {capacity}\"\n",
    "\n",
    "\n",
    "class car(vehicle):\n",
    "    def seating_capacity(self, capacity=2):\n",
    "        return super().seating_capacity(capacity=2)\n",
    "    \n",
    "car_obj=car(\"lamborghini\",350,7.69)\n",
    "print(car_obj.seating_capacity())\n",
    "    \n"
   ]
  },
  {
   "cell_type": "markdown",
   "id": "817f3c6a-13ee-4b51-90e7-91b3e5efe3e7",
   "metadata": {},
   "source": [
    "problem-3"
   ]
  },
  {
   "cell_type": "code",
   "execution_count": 3,
   "id": "e81b02fe-ca00-439f-8c3c-e3b7cac02ac9",
   "metadata": {},
   "outputs": [
    {
     "name": "stdout",
     "output_type": "stream",
     "text": [
      "This is the class of mathematics\n"
     ]
    }
   ],
   "source": [
    "#Q3. What is multiple inheritance? Write a python code to demonstrate multiple inheritance.\n",
    "'''ANS-In normal language we can say that it is a type of inheritance in which parent class is one but derived child are \n",
    "multiple.Below is one demonstrated example'''\n",
    "\n",
    "class mathematics:\n",
    "    def des1(self):\n",
    "        print(\"This is the class of mathematics\")\n",
    "class vectors(mathematics):\n",
    "    def des2(self):\n",
    "        print(\"This is the derived class of mathematics\")\n",
    "\n",
    "class box_product(vectors):\n",
    "    def des3(self):\n",
    "        print(\"this is one application of class vectors\")\n",
    "    \n",
    "math_obj=mathematics()\n",
    "vectors_obj=vectors()\n",
    "box_product_obj=box_product()\n",
    "\n",
    "\n",
    "box_product_obj.des1()"
   ]
  },
  {
   "cell_type": "markdown",
   "id": "f26e7b4a-9f08-4071-b614-c97dad309580",
   "metadata": {},
   "source": [
    "problem-3"
   ]
  },
  {
   "cell_type": "code",
   "execution_count": 4,
   "id": "635d4e12-93bf-4c05-a6bc-c97cb72ccf98",
   "metadata": {},
   "outputs": [
    {
     "data": {
      "text/plain": [
       "90"
      ]
     },
     "execution_count": 4,
     "metadata": {},
     "output_type": "execute_result"
    }
   ],
   "source": [
    "'''Q4. What are getter and setter in python? Create a class and create a getter and a setter method in this\n",
    "class.'''\n",
    "'''ANS-The main use of getter and setter method is to ensure data encapsulation.By using this we can hide our important parameters \n",
    "and user have not direct control over it.'''\n",
    "\n",
    "class marks:\n",
    "    def __init__(self,num):\n",
    "        self.__num=num\n",
    "    \n",
    "    def set_marks(self,x):\n",
    "        self.__num=x\n",
    "    \n",
    "    def get_marks(self):\n",
    "        return self.__num\n",
    "    \n",
    "child1=marks(89)\n",
    "child1.set_marks(90)\n",
    "child1.get_marks()"
   ]
  },
  {
   "cell_type": "markdown",
   "id": "6a5b7bd1-edf6-4a02-9a2d-d5b2bf6cb7df",
   "metadata": {},
   "source": [
    "problem-3"
   ]
  },
  {
   "cell_type": "code",
   "execution_count": 5,
   "id": "538782ae-35c0-4409-a0df-f0069c7df857",
   "metadata": {},
   "outputs": [
    {
     "name": "stdout",
     "output_type": "stream",
     "text": [
      "today we will study mathematics\n",
      "today we will study machine_learning\n"
     ]
    }
   ],
   "source": [
    "#Q5.What is method overriding in python? Write a python code to demonstrate method overriding.\n",
    "'''Ans-while creating sub classes from parent classes from the concept of inheritance,we can overwrite the same\n",
    "features and attributes i,e we can overwrite this is known as method overiding in python'''\n",
    "\n",
    "class morning:\n",
    "    def __init__(self):\n",
    "        self.__subject=\"mathematics\"\n",
    "        \n",
    "    def show(self):\n",
    "        return f\"today we will study {self.__subject}\"\n",
    "class child(morning):\n",
    "    def __init__(self):\n",
    "        self.__subject=\"machine_learning\"\n",
    "        \n",
    "    def show(self):\n",
    "        return f\"today we will study {self.__subject}\"\n",
    "    \n",
    "object1=morning()\n",
    "object2=child()\n",
    "print(object1.show())\n",
    "print(object2.show())"
   ]
  },
  {
   "cell_type": "code",
   "execution_count": null,
   "id": "f515f929-0833-4815-a146-7b81243d8a59",
   "metadata": {},
   "outputs": [],
   "source": []
  }
 ],
 "metadata": {
  "kernelspec": {
   "display_name": "Python 3 (ipykernel)",
   "language": "python",
   "name": "python3"
  },
  "language_info": {
   "codemirror_mode": {
    "name": "ipython",
    "version": 3
   },
   "file_extension": ".py",
   "mimetype": "text/x-python",
   "name": "python",
   "nbconvert_exporter": "python",
   "pygments_lexer": "ipython3",
   "version": "3.10.8"
  }
 },
 "nbformat": 4,
 "nbformat_minor": 5
}
